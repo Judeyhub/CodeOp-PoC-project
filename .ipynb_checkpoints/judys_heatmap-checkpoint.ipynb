{
 "cells": [
  {
   "cell_type": "code",
   "execution_count": 1,
   "id": "b0804941",
   "metadata": {},
   "outputs": [],
   "source": [
    "import numpy as np\n",
    "import pandas as pd\n",
    "import seaborn as sns"
   ]
  },
  {
   "cell_type": "code",
   "execution_count": 2,
   "id": "d84b2cab",
   "metadata": {},
   "outputs": [
    {
     "data": {
      "text/html": [
       "<div>\n",
       "<style scoped>\n",
       "    .dataframe tbody tr th:only-of-type {\n",
       "        vertical-align: middle;\n",
       "    }\n",
       "\n",
       "    .dataframe tbody tr th {\n",
       "        vertical-align: top;\n",
       "    }\n",
       "\n",
       "    .dataframe thead th {\n",
       "        text-align: right;\n",
       "    }\n",
       "</style>\n",
       "<table border=\"1\" class=\"dataframe\">\n",
       "  <thead>\n",
       "    <tr style=\"text-align: right;\">\n",
       "      <th></th>\n",
       "      <th>job</th>\n",
       "      <th>education</th>\n",
       "    </tr>\n",
       "  </thead>\n",
       "  <tbody>\n",
       "    <tr>\n",
       "      <th>0</th>\n",
       "      <td>job1</td>\n",
       "      <td>education_level1</td>\n",
       "    </tr>\n",
       "    <tr>\n",
       "      <th>1</th>\n",
       "      <td>job1</td>\n",
       "      <td>education_level1</td>\n",
       "    </tr>\n",
       "    <tr>\n",
       "      <th>2</th>\n",
       "      <td>job1</td>\n",
       "      <td>education_level2</td>\n",
       "    </tr>\n",
       "    <tr>\n",
       "      <th>3</th>\n",
       "      <td>job1</td>\n",
       "      <td>education_level2</td>\n",
       "    </tr>\n",
       "    <tr>\n",
       "      <th>4</th>\n",
       "      <td>job1</td>\n",
       "      <td>education_level2</td>\n",
       "    </tr>\n",
       "    <tr>\n",
       "      <th>5</th>\n",
       "      <td>job2</td>\n",
       "      <td>education_level3</td>\n",
       "    </tr>\n",
       "    <tr>\n",
       "      <th>6</th>\n",
       "      <td>job2</td>\n",
       "      <td>education_level3</td>\n",
       "    </tr>\n",
       "  </tbody>\n",
       "</table>\n",
       "</div>"
      ],
      "text/plain": [
       "    job         education\n",
       "0  job1  education_level1\n",
       "1  job1  education_level1\n",
       "2  job1  education_level2\n",
       "3  job1  education_level2\n",
       "4  job1  education_level2\n",
       "5  job2  education_level3\n",
       "6  job2  education_level3"
      ]
     },
     "execution_count": 2,
     "metadata": {},
     "output_type": "execute_result"
    }
   ],
   "source": [
    "data = pd.DataFrame()\n",
    "\n",
    "jobs = [\n",
    "    \"job1\",\n",
    "    \"job1\",\n",
    "    \"job1\",\n",
    "    \"job1\",\n",
    "    \"job1\",\n",
    "    \"job2\",\n",
    "    \"job2\",\n",
    "]\n",
    "\n",
    "educations = [\n",
    "    \"education_level1\",\n",
    "    \"education_level1\",\n",
    "    \"education_level2\",\n",
    "    \"education_level2\",\n",
    "    \"education_level2\",\n",
    "    \"education_level3\",\n",
    "    \"education_level3\",\n",
    "]\n",
    "\n",
    "data[\"job\"] = jobs\n",
    "data[\"education\"] = educations\n",
    "data"
   ]
  },
  {
   "cell_type": "code",
   "execution_count": 43,
   "id": "ccd86ade",
   "metadata": {},
   "outputs": [],
   "source": [
    "def _create_heatmap(\n",
    "    dataframe: pd.DataFrame,\n",
    "    name_of_first_column: str,\n",
    "    name_of_second_column: str,\n",
    "):\n",
    "    # Initialize a matrix of all zeroes.\n",
    "    matrix = np.zeros(\n",
    "        (len(dataframe[name_of_first_column].unique()),len(dataframe[name_of_second_column].unique()))\n",
    "    )\n",
    "    \n",
    "    # Get a list of the unique values in each column.\n",
    "    unique_values_of_column1 = list(dataframe[name_of_first_column].unique())\n",
    "    unique_values_of_column2 = list(dataframe[name_of_second_column].unique())\n",
    "    \n",
    "    # Update the matrix, which you're going to use in the heatmap.\n",
    "    for idx, row in dataframe.iterrows():\n",
    "        current_col1_value = row[name_of_first_column]\n",
    "        current_col2_value = row[name_of_second_column]\n",
    "\n",
    "        index_of_current_col1_value = unique_values_of_column1.index(current_col1_value)\n",
    "        index_of_current_col2_value = unique_values_of_column2.index(current_col2_value)\n",
    "\n",
    "        matrix[index_of_current_col1_value, index_of_current_col2_value] += 1\n",
    "\n",
    "    # Create the dataframe.\n",
    "    heatmap_dataframe = pd.DataFrame(\n",
    "        matrix,\n",
    "        index=unique_values_of_column1,\n",
    "        columns=unique_values_of_column2\n",
    "    )\n",
    "    \n",
    "    # Create the heatmap.\n",
    "    heatmap = sns.heatmap(heatmap_dataframe, cmap=\"YlGnBu\", annot=True)\n",
    "    \n",
    "    return heatmap\n",
    "     "
   ]
  },
  {
   "cell_type": "code",
   "execution_count": 44,
   "id": "3729a344",
   "metadata": {},
   "outputs": [
    {
     "data": {
      "text/html": [
       "<div>\n",
       "<style scoped>\n",
       "    .dataframe tbody tr th:only-of-type {\n",
       "        vertical-align: middle;\n",
       "    }\n",
       "\n",
       "    .dataframe tbody tr th {\n",
       "        vertical-align: top;\n",
       "    }\n",
       "\n",
       "    .dataframe thead th {\n",
       "        text-align: right;\n",
       "    }\n",
       "</style>\n",
       "<table border=\"1\" class=\"dataframe\">\n",
       "  <thead>\n",
       "    <tr style=\"text-align: right;\">\n",
       "      <th></th>\n",
       "      <th>job</th>\n",
       "      <th>education</th>\n",
       "    </tr>\n",
       "  </thead>\n",
       "  <tbody>\n",
       "    <tr>\n",
       "      <th>0</th>\n",
       "      <td>job1</td>\n",
       "      <td>education_level1</td>\n",
       "    </tr>\n",
       "    <tr>\n",
       "      <th>1</th>\n",
       "      <td>job1</td>\n",
       "      <td>education_level1</td>\n",
       "    </tr>\n",
       "    <tr>\n",
       "      <th>2</th>\n",
       "      <td>job1</td>\n",
       "      <td>education_level2</td>\n",
       "    </tr>\n",
       "    <tr>\n",
       "      <th>3</th>\n",
       "      <td>job1</td>\n",
       "      <td>education_level2</td>\n",
       "    </tr>\n",
       "    <tr>\n",
       "      <th>4</th>\n",
       "      <td>job1</td>\n",
       "      <td>education_level2</td>\n",
       "    </tr>\n",
       "    <tr>\n",
       "      <th>5</th>\n",
       "      <td>job2</td>\n",
       "      <td>education_level3</td>\n",
       "    </tr>\n",
       "    <tr>\n",
       "      <th>6</th>\n",
       "      <td>job2</td>\n",
       "      <td>education_level3</td>\n",
       "    </tr>\n",
       "  </tbody>\n",
       "</table>\n",
       "</div>"
      ],
      "text/plain": [
       "    job         education\n",
       "0  job1  education_level1\n",
       "1  job1  education_level1\n",
       "2  job1  education_level2\n",
       "3  job1  education_level2\n",
       "4  job1  education_level2\n",
       "5  job2  education_level3\n",
       "6  job2  education_level3"
      ]
     },
     "execution_count": 44,
     "metadata": {},
     "output_type": "execute_result"
    }
   ],
   "source": [
    "data"
   ]
  },
  {
   "cell_type": "code",
   "execution_count": 47,
   "id": "2d390803",
   "metadata": {},
   "outputs": [
    {
     "data": {
      "text/plain": [
       "<AxesSubplot:>"
      ]
     },
     "execution_count": 47,
     "metadata": {},
     "output_type": "execute_result"
    },
    {
     "data": {
      "image/png": "[encoded data removed]",
      "text/plain": [
       "<Figure size 432x288 with 2 Axes>"
      ]
     },
     "metadata": {
      "needs_background": "light"
     },
     "output_type": "display_data"
    }
   ],
   "source": [
    "_create_heatmap(\n",
    "    data,\n",
    "    \"job\",\n",
    "    \"education\"\n",
    ")"
   ]
  },
  {
   "cell_type": "code",
   "execution_count": null,
   "id": "1c2982db",
   "metadata": {},
   "outputs": [],
   "source": []
  }
 ],
 "metadata": {
  "kernelspec": {
   "display_name": "Python 3 (ipykernel)",
   "language": "python",
   "name": "python3"
  },
  "language_info": {
   "codemirror_mode": {
    "name": "ipython",
    "version": 3
   },
   "file_extension": ".py",
   "mimetype": "text/x-python",
   "name": "python",
   "nbconvert_exporter": "python",
   "pygments_lexer": "ipython3",
   "version": "3.10.4"
  }
 },
 "nbformat": 4,
 "nbformat_minor": 5
}
